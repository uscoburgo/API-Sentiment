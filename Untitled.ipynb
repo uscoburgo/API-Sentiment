{
 "cells": [
  {
   "cell_type": "code",
   "execution_count": 18,
   "metadata": {},
   "outputs": [],
   "source": [
    "import requests\n",
    "import json"
   ]
  },
  {
   "cell_type": "code",
   "execution_count": 19,
   "metadata": {},
   "outputs": [],
   "source": [
    "username = \"Weird Al Yankovic\""
   ]
  },
  {
   "cell_type": "code",
   "execution_count": 20,
   "metadata": {},
   "outputs": [
    {
     "name": "stdout",
     "output_type": "stream",
     "text": [
      "<Response [200]>\n"
     ]
    },
    {
     "data": {
      "text/plain": [
       "{'message': 'Congrats! You just created a user called Weird Al Yankovic with user_id: <pymongo.results.InsertOneResult object at 0x11d422d70>'}"
      ]
     },
     "execution_count": 20,
     "metadata": {},
     "output_type": "execute_result"
    }
   ],
   "source": [
    "url = f\"http://localhost:3000/user/create/{username}\"\n",
    "res = requests.get(url)\n",
    "print(res)\n",
    "res.json()"
   ]
  },
  {
   "cell_type": "code",
   "execution_count": 23,
   "metadata": {},
   "outputs": [],
   "source": [
    "path='quotes.json'\n",
    "with open(path,'r') as file:\n",
    "    data=json.load(file)"
   ]
  },
  {
   "cell_type": "code",
   "execution_count": 24,
   "metadata": {},
   "outputs": [],
   "source": [
    "users=list(data.keys())\n",
    "messages=list(data.values())"
   ]
  },
  {
   "cell_type": "code",
   "execution_count": 26,
   "metadata": {},
   "outputs": [
    {
     "name": "stdout",
     "output_type": "stream",
     "text": [
      "<Response [200]>\n",
      "<Response [200]>\n",
      "<Response [200]>\n",
      "<Response [200]>\n",
      "<Response [200]>\n",
      "<Response [200]>\n",
      "<Response [200]>\n",
      "<Response [200]>\n",
      "<Response [200]>\n",
      "<Response [200]>\n",
      "<Response [200]>\n",
      "<Response [200]>\n",
      "<Response [200]>\n",
      "<Response [200]>\n",
      "<Response [200]>\n",
      "<Response [200]>\n",
      "<Response [200]>\n",
      "<Response [200]>\n",
      "<Response [200]>\n",
      "<Response [200]>\n",
      "<Response [200]>\n",
      "<Response [200]>\n",
      "<Response [200]>\n",
      "<Response [200]>\n",
      "<Response [200]>\n",
      "<Response [200]>\n",
      "<Response [200]>\n",
      "<Response [200]>\n",
      "<Response [200]>\n",
      "<Response [200]>\n",
      "<Response [200]>\n",
      "<Response [200]>\n",
      "<Response [200]>\n",
      "<Response [200]>\n",
      "<Response [200]>\n",
      "<Response [200]>\n",
      "<Response [200]>\n",
      "<Response [200]>\n",
      "<Response [200]>\n",
      "<Response [200]>\n",
      "<Response [200]>\n",
      "<Response [200]>\n",
      "<Response [200]>\n",
      "<Response [200]>\n",
      "<Response [200]>\n",
      "<Response [200]>\n",
      "<Response [200]>\n",
      "<Response [200]>\n",
      "<Response [200]>\n",
      "<Response [200]>\n",
      "<Response [200]>\n",
      "<Response [200]>\n",
      "<Response [200]>\n"
     ]
    }
   ],
   "source": [
    "for user in users:\n",
    "    url = f\"http://localhost:3000/user/create/{user}\"\n",
    "    res = requests.get(url)\n",
    "    print(res)"
   ]
  },
  {
   "cell_type": "code",
   "execution_count": 41,
   "metadata": {},
   "outputs": [
    {
     "name": "stdout",
     "output_type": "stream",
     "text": [
      "<Response [404]>\n"
     ]
    }
   ],
   "source": [
    "url = f\"http://localhost:3000/user/create/\"\n",
    "res = requests.get(url)\n",
    "print(res)\n"
   ]
  },
  {
   "cell_type": "code",
   "execution_count": 42,
   "metadata": {},
   "outputs": [
    {
     "name": "stdout",
     "output_type": "stream",
     "text": [
      "<Response [500]>\n"
     ]
    },
    {
     "data": {
      "text/plain": [
       "<bound method Response.json of <Response [500]>>"
      ]
     },
     "execution_count": 42,
     "metadata": {},
     "output_type": "execute_result"
    }
   ],
   "source": [
    "chatname = \"Science\"\n",
    "arr = [\"5f0c7947259505a9bd6f8481\",\"5f0c7947259505a9bd6f848b\",\"5f0c7947259505a9bd6f84a3\"]\n",
    "url = f\"http://localhost:3000/chat/create?ids={arr}&name={chatname}\"\n",
    "res = requests.get(url)\n",
    "print(res)\n",
    "res.json"
   ]
  },
  {
   "cell_type": "code",
   "execution_count": 31,
   "metadata": {},
   "outputs": [
    {
     "data": {
      "text/plain": [
       "['Weird Al Yankovic',\n",
       " 'AK-47',\n",
       " 'Abraham Lincoln',\n",
       " 'Adolf Hitler',\n",
       " 'Adolph Gottlieb',\n",
       " 'Advertising',\n",
       " 'Agatha Christie',\n",
       " 'Al Capone',\n",
       " 'Albert Einstein',\n",
       " 'Aldous Huxley',\n",
       " 'Alfred Hitchcock',\n",
       " 'Bon Jovi',\n",
       " 'Bono',\n",
       " 'C (programming language)',\n",
       " 'C. S. Lewis',\n",
       " 'Charles Manson',\n",
       " 'Coco Chanel',\n",
       " 'Donald Trump',\n",
       " 'Elon Musk',\n",
       " 'Elton John',\n",
       " 'Francis de Sales',\n",
       " 'Francisco Luís Gomes',\n",
       " 'Franz Kafka',\n",
       " 'Gabriel García Márquez',\n",
       " 'Garry Kasparov',\n",
       " 'George Frederick James Temple',\n",
       " 'George Galloway',\n",
       " 'Greed',\n",
       " 'H. P. Lovecraft',\n",
       " 'Infinity',\n",
       " 'Inflation',\n",
       " 'James K. Polk',\n",
       " 'James Legge',\n",
       " 'Kenneth Clark',\n",
       " 'Kenneth Grahame',\n",
       " 'L. Ron Hubbard',\n",
       " 'Marilyn Manson',\n",
       " 'Marilyn Monroe',\n",
       " 'Marlene Dietrich',\n",
       " 'Marlon Brando',\n",
       " 'Mike Scott (musician)',\n",
       " 'Mike Tyson',\n",
       " 'Neil Armstrong',\n",
       " 'Neil Bauman',\n",
       " 'Orson Welles',\n",
       " 'Osama bin Laden',\n",
       " 'Peter Shaffer',\n",
       " 'Peter Singer',\n",
       " 'Peter Sloterdijk',\n",
       " 'Richard Morgan',\n",
       " 'Richard Nixon',\n",
       " 'Sarah Palin',\n",
       " 'Sarah Silverman']"
      ]
     },
     "execution_count": 31,
     "metadata": {},
     "output_type": "execute_result"
    }
   ],
   "source": [
    "users"
   ]
  },
  {
   "cell_type": "code",
   "execution_count": null,
   "metadata": {},
   "outputs": [],
   "source": []
  }
 ],
 "metadata": {
  "kernelspec": {
   "display_name": "Python 3.7.7 64-bit",
   "language": "python",
   "name": "python37764bit3bf07ec6f5f5414f84b8df9ac5c5f2a2"
  },
  "language_info": {
   "codemirror_mode": {
    "name": "ipython",
    "version": 3
   },
   "file_extension": ".py",
   "mimetype": "text/x-python",
   "name": "python",
   "nbconvert_exporter": "python",
   "pygments_lexer": "ipython3",
   "version": "3.7.7"
  }
 },
 "nbformat": 4,
 "nbformat_minor": 4
}
